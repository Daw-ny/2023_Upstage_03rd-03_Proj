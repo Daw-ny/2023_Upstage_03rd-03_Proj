{
 "cells": [
  {
   "cell_type": "markdown",
   "metadata": {},
   "source": [
    "# KNHNES BASELINE AUTOML"
   ]
  },
  {
   "cell_type": "markdown",
   "metadata": {},
   "source": [
    "### 변수 설명\n",
    "- ID                 : 환자 ID\n",
    "- N_Days             : 등록 시작 시점부터 censored 까지 기간\n",
    "- Status             : \n",
    "- Drug               : 약물 처리군 / 플라시보 군\n",
    "- Age                : 연령\n",
    "- Sex                : 성별\n",
    "- Ascites            : Y/N 배에 복수가 찼는지\n",
    "- Hepatomegaly       : Y/N 간 비대칭이 생겼는지\n",
    "- Spiders            : Y/N 거미혈관증 유무 주로 여성에게 많이 발생할 수 있음 ( 에스트로겐과 관련 )\n",
    "- Edema              : Y/N 부종 유무\n",
    "- Bilirubin          : 적혈구 파괴 수치 (파괴 수치가 높을수록 간염이 존재할 확률이 높음)\n",
    "- Cholesterol        : 콜레스테롤 상승시 지방간이 생김 ( 높을수록 간에 안좋음 )\n",
    "- Albumin            : 단백질의 한 종류 (값이 하락할 수록 간 기능이 안좋음)\n",
    "- Copper             : 신체의 필수 미네랄 하나 (단백질, 효소) 수치가 높을 수록 대사 장애 발생 가능성 높음\n",
    "- Alk_Phos           : (alp) 수치가 높으면 간의 문제가 있을 가능성 높음\n",
    "- SGOT               : (AST) 간기능 검사의 주요 요소 [0, 40]이 정상 범위\n",
    "- Tryglicerides      : 중성지방 150 미만이 정상.\n",
    "- Platelets          : 혈소판 수치가 떨어질 수록 간 경변이 발생 가능\n",
    "- Prothrombin        : 혈액이 얼마나 빨리 굳는지 측정 시간 ( 시간이 증가하면 응고 시간이 늘어나기 때문에 간경변 의심할 수 있음, 높을수록 의심)\n",
    "- Stage              : 간경변의 4단계 1부터 4까지의 순서"
   ]
  },
  {
   "cell_type": "markdown",
   "metadata": {},
   "source": [
    "## 1. Setting"
   ]
  },
  {
   "cell_type": "code",
   "execution_count": 1,
   "metadata": {},
   "outputs": [
    {
     "name": "stderr",
     "output_type": "stream",
     "text": [
      "Using `tqdm.autonotebook.tqdm` in notebook mode. Use `tqdm.tqdm` instead to force console mode (e.g. in jupyter console)\n"
     ]
    }
   ],
   "source": [
    "# import modules\n",
    "import pandas as pd\n",
    "import numpy as np\n",
    "import warnings\n",
    "\n",
    "# graph\n",
    "from matplotlib import pyplot as plt\n",
    "import seaborn as sns\n",
    "\n",
    "# split\n",
    "from sklearn.model_selection import train_test_split\n",
    "\n",
    "# modeling\n",
    "from supervised.automl import AutoML\n",
    "\n",
    "# XAI\n",
    "import shap\n",
    "\n",
    "%matplotlib inline"
   ]
  },
  {
   "cell_type": "code",
   "execution_count": 2,
   "metadata": {},
   "outputs": [],
   "source": [
    "# 한글 깨짐 방지 및 warnings 알림 금지\n",
    "plt.rc('font', family='NanumSquare')\n",
    "warnings.filterwarnings(action = 'ignore')"
   ]
  },
  {
   "cell_type": "code",
   "execution_count": 165,
   "metadata": {},
   "outputs": [],
   "source": [
    "# load data\n",
    "data = pd.read_csv('../Data/K_ALL_sero.csv')"
   ]
  },
  {
   "cell_type": "markdown",
   "metadata": {},
   "source": [
    "## 2. Info"
   ]
  },
  {
   "cell_type": "code",
   "execution_count": 166,
   "metadata": {},
   "outputs": [
    {
     "data": {
      "text/plain": [
       "(120181, 44)"
      ]
     },
     "execution_count": 166,
     "metadata": {},
     "output_type": "execute_result"
    }
   ],
   "source": [
    "# shape\n",
    "data.shape"
   ]
  },
  {
   "cell_type": "code",
   "execution_count": 167,
   "metadata": {},
   "outputs": [
    {
     "data": {
      "text/plain": [
       "id              object\n",
       "ID_fam          object\n",
       "year             int64\n",
       "region           int64\n",
       "sex              int64\n",
       "age              int64\n",
       "age_month      float64\n",
       "DC2_dg         float64\n",
       "DC2_ag         float64\n",
       "DC2_pr         float64\n",
       "DC2_pt         float64\n",
       "DK8_dg         float64\n",
       "DK8_ag         float64\n",
       "DK8_pr         float64\n",
       "DK8_pt         float64\n",
       "DK9_dg         float64\n",
       "DK9_ag         float64\n",
       "DK9_pr         float64\n",
       "DK9_pt         float64\n",
       "DK4_dg         float64\n",
       "DK4_ag         float64\n",
       "DK4_pr         float64\n",
       "DK4_pt         float64\n",
       "HE_glu         float64\n",
       "HE_HbA1c       float64\n",
       "HE_insulin     float64\n",
       "HE_chol        float64\n",
       "HE_HDL_st2     float64\n",
       "HE_TG          float64\n",
       "HE_LDL_drct    float64\n",
       "HE_ast         float64\n",
       "HE_alt         float64\n",
       "HE_hepaB       float64\n",
       "HE_hepaC       float64\n",
       "HE_HB          float64\n",
       "HE_BUN         float64\n",
       "HE_crea        float64\n",
       "HE_WBC         float64\n",
       "HE_RBC         float64\n",
       "HE_Bplt        float64\n",
       "HE_Uacid       float64\n",
       "HE_Ubil        float64\n",
       "HE_UCREA       float64\n",
       "HE_Ualb        float64\n",
       "dtype: object"
      ]
     },
     "execution_count": 167,
     "metadata": {},
     "output_type": "execute_result"
    }
   ],
   "source": [
    "# type\n",
    "data.dtypes"
   ]
  },
  {
   "cell_type": "code",
   "execution_count": 168,
   "metadata": {},
   "outputs": [
    {
     "data": {
      "text/html": [
       "<div>\n",
       "<style scoped>\n",
       "    .dataframe tbody tr th:only-of-type {\n",
       "        vertical-align: middle;\n",
       "    }\n",
       "\n",
       "    .dataframe tbody tr th {\n",
       "        vertical-align: top;\n",
       "    }\n",
       "\n",
       "    .dataframe thead th {\n",
       "        text-align: right;\n",
       "    }\n",
       "</style>\n",
       "<table border=\"1\" class=\"dataframe\">\n",
       "  <thead>\n",
       "    <tr style=\"text-align: right;\">\n",
       "      <th></th>\n",
       "      <th>year</th>\n",
       "      <th>region</th>\n",
       "      <th>sex</th>\n",
       "      <th>age</th>\n",
       "      <th>age_month</th>\n",
       "      <th>DC2_dg</th>\n",
       "      <th>DC2_ag</th>\n",
       "      <th>DC2_pr</th>\n",
       "      <th>DC2_pt</th>\n",
       "      <th>DK8_dg</th>\n",
       "      <th>...</th>\n",
       "      <th>HE_HB</th>\n",
       "      <th>HE_BUN</th>\n",
       "      <th>HE_crea</th>\n",
       "      <th>HE_WBC</th>\n",
       "      <th>HE_RBC</th>\n",
       "      <th>HE_Bplt</th>\n",
       "      <th>HE_Uacid</th>\n",
       "      <th>HE_Ubil</th>\n",
       "      <th>HE_UCREA</th>\n",
       "      <th>HE_Ualb</th>\n",
       "    </tr>\n",
       "  </thead>\n",
       "  <tbody>\n",
       "    <tr>\n",
       "      <th>count</th>\n",
       "      <td>120181.000000</td>\n",
       "      <td>120181.000000</td>\n",
       "      <td>120181.000000</td>\n",
       "      <td>120181.000000</td>\n",
       "      <td>7380.000000</td>\n",
       "      <td>109209.000000</td>\n",
       "      <td>109209.000000</td>\n",
       "      <td>109209.000000</td>\n",
       "      <td>109209.000000</td>\n",
       "      <td>109209.000000</td>\n",
       "      <td>...</td>\n",
       "      <td>95066.000000</td>\n",
       "      <td>95429.000000</td>\n",
       "      <td>95418.000000</td>\n",
       "      <td>95066.000000</td>\n",
       "      <td>95066.000000</td>\n",
       "      <td>90809.000000</td>\n",
       "      <td>38812.000000</td>\n",
       "      <td>93679.000000</td>\n",
       "      <td>59808.000000</td>\n",
       "      <td>42336.000000</td>\n",
       "    </tr>\n",
       "    <tr>\n",
       "      <th>mean</th>\n",
       "      <td>2013.879815</td>\n",
       "      <td>7.336068</td>\n",
       "      <td>1.544337</td>\n",
       "      <td>41.790100</td>\n",
       "      <td>47.915989</td>\n",
       "      <td>4.372304</td>\n",
       "      <td>890.520360</td>\n",
       "      <td>8.022892</td>\n",
       "      <td>8.022956</td>\n",
       "      <td>4.341584</td>\n",
       "      <td>...</td>\n",
       "      <td>13.958473</td>\n",
       "      <td>14.392281</td>\n",
       "      <td>0.817439</td>\n",
       "      <td>6.198065</td>\n",
       "      <td>4.596744</td>\n",
       "      <td>258.863318</td>\n",
       "      <td>5.134036</td>\n",
       "      <td>0.105445</td>\n",
       "      <td>152.005386</td>\n",
       "      <td>24.255969</td>\n",
       "    </tr>\n",
       "    <tr>\n",
       "      <th>std</th>\n",
       "      <td>4.233372</td>\n",
       "      <td>4.824593</td>\n",
       "      <td>0.498032</td>\n",
       "      <td>22.804382</td>\n",
       "      <td>20.720482</td>\n",
       "      <td>4.015360</td>\n",
       "      <td>31.828416</td>\n",
       "      <td>0.282229</td>\n",
       "      <td>0.282337</td>\n",
       "      <td>4.009308</td>\n",
       "      <td>...</td>\n",
       "      <td>1.560951</td>\n",
       "      <td>4.604838</td>\n",
       "      <td>0.257010</td>\n",
       "      <td>1.738748</td>\n",
       "      <td>0.478239</td>\n",
       "      <td>62.119848</td>\n",
       "      <td>1.384592</td>\n",
       "      <td>0.448463</td>\n",
       "      <td>85.442436</td>\n",
       "      <td>124.752252</td>\n",
       "    </tr>\n",
       "    <tr>\n",
       "      <th>min</th>\n",
       "      <td>2007.000000</td>\n",
       "      <td>1.000000</td>\n",
       "      <td>1.000000</td>\n",
       "      <td>1.000000</td>\n",
       "      <td>12.000000</td>\n",
       "      <td>0.000000</td>\n",
       "      <td>38.000000</td>\n",
       "      <td>0.000000</td>\n",
       "      <td>0.000000</td>\n",
       "      <td>0.000000</td>\n",
       "      <td>...</td>\n",
       "      <td>3.900000</td>\n",
       "      <td>2.000000</td>\n",
       "      <td>0.200000</td>\n",
       "      <td>1.300000</td>\n",
       "      <td>1.610000</td>\n",
       "      <td>9.000000</td>\n",
       "      <td>0.900000</td>\n",
       "      <td>0.000000</td>\n",
       "      <td>4.000000</td>\n",
       "      <td>0.090000</td>\n",
       "    </tr>\n",
       "    <tr>\n",
       "      <th>25%</th>\n",
       "      <td>2010.000000</td>\n",
       "      <td>3.000000</td>\n",
       "      <td>1.000000</td>\n",
       "      <td>23.000000</td>\n",
       "      <td>30.000000</td>\n",
       "      <td>0.000000</td>\n",
       "      <td>888.000000</td>\n",
       "      <td>8.000000</td>\n",
       "      <td>8.000000</td>\n",
       "      <td>0.000000</td>\n",
       "      <td>...</td>\n",
       "      <td>12.900000</td>\n",
       "      <td>11.000000</td>\n",
       "      <td>0.680000</td>\n",
       "      <td>5.000000</td>\n",
       "      <td>4.260000</td>\n",
       "      <td>218.000000</td>\n",
       "      <td>4.100000</td>\n",
       "      <td>0.000000</td>\n",
       "      <td>88.000000</td>\n",
       "      <td>3.500000</td>\n",
       "    </tr>\n",
       "    <tr>\n",
       "      <th>50%</th>\n",
       "      <td>2014.000000</td>\n",
       "      <td>8.000000</td>\n",
       "      <td>2.000000</td>\n",
       "      <td>43.000000</td>\n",
       "      <td>48.000000</td>\n",
       "      <td>8.000000</td>\n",
       "      <td>888.000000</td>\n",
       "      <td>8.000000</td>\n",
       "      <td>8.000000</td>\n",
       "      <td>8.000000</td>\n",
       "      <td>...</td>\n",
       "      <td>13.900000</td>\n",
       "      <td>14.000000</td>\n",
       "      <td>0.800000</td>\n",
       "      <td>5.960000</td>\n",
       "      <td>4.570000</td>\n",
       "      <td>255.000000</td>\n",
       "      <td>5.000000</td>\n",
       "      <td>0.000000</td>\n",
       "      <td>137.100000</td>\n",
       "      <td>7.100000</td>\n",
       "    </tr>\n",
       "    <tr>\n",
       "      <th>75%</th>\n",
       "      <td>2018.000000</td>\n",
       "      <td>11.000000</td>\n",
       "      <td>2.000000</td>\n",
       "      <td>61.000000</td>\n",
       "      <td>66.000000</td>\n",
       "      <td>8.000000</td>\n",
       "      <td>888.000000</td>\n",
       "      <td>8.000000</td>\n",
       "      <td>8.000000</td>\n",
       "      <td>8.000000</td>\n",
       "      <td>...</td>\n",
       "      <td>15.100000</td>\n",
       "      <td>17.000000</td>\n",
       "      <td>0.930000</td>\n",
       "      <td>7.100000</td>\n",
       "      <td>4.920000</td>\n",
       "      <td>295.000000</td>\n",
       "      <td>6.000000</td>\n",
       "      <td>0.000000</td>\n",
       "      <td>200.000000</td>\n",
       "      <td>13.900000</td>\n",
       "    </tr>\n",
       "    <tr>\n",
       "      <th>max</th>\n",
       "      <td>2021.000000</td>\n",
       "      <td>17.000000</td>\n",
       "      <td>2.000000</td>\n",
       "      <td>80.000000</td>\n",
       "      <td>83.000000</td>\n",
       "      <td>9.000000</td>\n",
       "      <td>999.000000</td>\n",
       "      <td>9.000000</td>\n",
       "      <td>9.000000</td>\n",
       "      <td>9.000000</td>\n",
       "      <td>...</td>\n",
       "      <td>21.300000</td>\n",
       "      <td>140.000000</td>\n",
       "      <td>17.530000</td>\n",
       "      <td>48.200000</td>\n",
       "      <td>9.640000</td>\n",
       "      <td>1880.000000</td>\n",
       "      <td>13.600000</td>\n",
       "      <td>4.000000</td>\n",
       "      <td>846.000000</td>\n",
       "      <td>5530.000000</td>\n",
       "    </tr>\n",
       "  </tbody>\n",
       "</table>\n",
       "<p>8 rows × 42 columns</p>\n",
       "</div>"
      ],
      "text/plain": [
       "                year         region            sex            age  \\\n",
       "count  120181.000000  120181.000000  120181.000000  120181.000000   \n",
       "mean     2013.879815       7.336068       1.544337      41.790100   \n",
       "std         4.233372       4.824593       0.498032      22.804382   \n",
       "min      2007.000000       1.000000       1.000000       1.000000   \n",
       "25%      2010.000000       3.000000       1.000000      23.000000   \n",
       "50%      2014.000000       8.000000       2.000000      43.000000   \n",
       "75%      2018.000000      11.000000       2.000000      61.000000   \n",
       "max      2021.000000      17.000000       2.000000      80.000000   \n",
       "\n",
       "         age_month         DC2_dg         DC2_ag         DC2_pr  \\\n",
       "count  7380.000000  109209.000000  109209.000000  109209.000000   \n",
       "mean     47.915989       4.372304     890.520360       8.022892   \n",
       "std      20.720482       4.015360      31.828416       0.282229   \n",
       "min      12.000000       0.000000      38.000000       0.000000   \n",
       "25%      30.000000       0.000000     888.000000       8.000000   \n",
       "50%      48.000000       8.000000     888.000000       8.000000   \n",
       "75%      66.000000       8.000000     888.000000       8.000000   \n",
       "max      83.000000       9.000000     999.000000       9.000000   \n",
       "\n",
       "              DC2_pt         DK8_dg  ...         HE_HB        HE_BUN  \\\n",
       "count  109209.000000  109209.000000  ...  95066.000000  95429.000000   \n",
       "mean        8.022956       4.341584  ...     13.958473     14.392281   \n",
       "std         0.282337       4.009308  ...      1.560951      4.604838   \n",
       "min         0.000000       0.000000  ...      3.900000      2.000000   \n",
       "25%         8.000000       0.000000  ...     12.900000     11.000000   \n",
       "50%         8.000000       8.000000  ...     13.900000     14.000000   \n",
       "75%         8.000000       8.000000  ...     15.100000     17.000000   \n",
       "max         9.000000       9.000000  ...     21.300000    140.000000   \n",
       "\n",
       "            HE_crea        HE_WBC        HE_RBC       HE_Bplt      HE_Uacid  \\\n",
       "count  95418.000000  95066.000000  95066.000000  90809.000000  38812.000000   \n",
       "mean       0.817439      6.198065      4.596744    258.863318      5.134036   \n",
       "std        0.257010      1.738748      0.478239     62.119848      1.384592   \n",
       "min        0.200000      1.300000      1.610000      9.000000      0.900000   \n",
       "25%        0.680000      5.000000      4.260000    218.000000      4.100000   \n",
       "50%        0.800000      5.960000      4.570000    255.000000      5.000000   \n",
       "75%        0.930000      7.100000      4.920000    295.000000      6.000000   \n",
       "max       17.530000     48.200000      9.640000   1880.000000     13.600000   \n",
       "\n",
       "            HE_Ubil      HE_UCREA       HE_Ualb  \n",
       "count  93679.000000  59808.000000  42336.000000  \n",
       "mean       0.105445    152.005386     24.255969  \n",
       "std        0.448463     85.442436    124.752252  \n",
       "min        0.000000      4.000000      0.090000  \n",
       "25%        0.000000     88.000000      3.500000  \n",
       "50%        0.000000    137.100000      7.100000  \n",
       "75%        0.000000    200.000000     13.900000  \n",
       "max        4.000000    846.000000   5530.000000  \n",
       "\n",
       "[8 rows x 42 columns]"
      ]
     },
     "execution_count": 168,
     "metadata": {},
     "output_type": "execute_result"
    }
   ],
   "source": [
    "data.describe()"
   ]
  },
  {
   "cell_type": "code",
   "execution_count": 169,
   "metadata": {},
   "outputs": [
    {
     "data": {
      "text/plain": [
       "id              46828\n",
       "ID_fam              0\n",
       "year                0\n",
       "region              0\n",
       "sex                 0\n",
       "age                 0\n",
       "age_month      112801\n",
       "DC2_dg          10972\n",
       "DC2_ag          10972\n",
       "DC2_pr          10972\n",
       "DC2_pt          10972\n",
       "DK8_dg          10972\n",
       "DK8_ag          10972\n",
       "DK8_pr          10972\n",
       "DK8_pt          10972\n",
       "DK9_dg          10972\n",
       "DK9_ag          10972\n",
       "DK9_pr          10972\n",
       "DK9_pt          10972\n",
       "DK4_dg          10972\n",
       "DK4_ag          10972\n",
       "DK4_pr          10972\n",
       "DK4_pt          10972\n",
       "HE_glu          24857\n",
       "HE_HbA1c        48985\n",
       "HE_insulin      68944\n",
       "HE_chol         24809\n",
       "HE_HDL_st2      24821\n",
       "HE_TG           24809\n",
       "HE_LDL_drct     99794\n",
       "HE_ast          24753\n",
       "HE_alt          24761\n",
       "HE_hepaB        24757\n",
       "HE_hepaC        57729\n",
       "HE_HB           25115\n",
       "HE_BUN          24752\n",
       "HE_crea         24763\n",
       "HE_WBC          25115\n",
       "HE_RBC          25115\n",
       "HE_Bplt         29372\n",
       "HE_Uacid        81369\n",
       "HE_Ubil         26502\n",
       "HE_UCREA        60373\n",
       "HE_Ualb         77845\n",
       "dtype: int64"
      ]
     },
     "execution_count": 169,
     "metadata": {},
     "output_type": "execute_result"
    }
   ],
   "source": [
    "data.isna().sum()"
   ]
  },
  {
   "cell_type": "code",
   "execution_count": 170,
   "metadata": {},
   "outputs": [
    {
     "data": {
      "text/plain": [
       "Index(['id', 'ID_fam', 'year', 'region', 'sex', 'age', 'age_month', 'DC2_dg',\n",
       "       'DC2_ag', 'DC2_pr', 'DC2_pt', 'DK8_dg', 'DK8_ag', 'DK8_pr', 'DK8_pt',\n",
       "       'DK9_dg', 'DK9_ag', 'DK9_pr', 'DK9_pt', 'DK4_dg', 'DK4_ag', 'DK4_pr',\n",
       "       'DK4_pt', 'HE_glu', 'HE_HbA1c', 'HE_insulin', 'HE_chol', 'HE_HDL_st2',\n",
       "       'HE_TG', 'HE_LDL_drct', 'HE_ast', 'HE_alt', 'HE_hepaB', 'HE_hepaC',\n",
       "       'HE_HB', 'HE_BUN', 'HE_crea', 'HE_WBC', 'HE_RBC', 'HE_Bplt', 'HE_Uacid',\n",
       "       'HE_Ubil', 'HE_UCREA', 'HE_Ualb'],\n",
       "      dtype='object')"
      ]
     },
     "execution_count": 170,
     "metadata": {},
     "output_type": "execute_result"
    }
   ],
   "source": [
    "data.columns"
   ]
  },
  {
   "cell_type": "markdown",
   "metadata": {},
   "source": [
    "## 3. use_data"
   ]
  },
  {
   "cell_type": "code",
   "execution_count": 171,
   "metadata": {},
   "outputs": [],
   "source": [
    "# 사용할 데이터 만들기\n",
    "use_data_B = data.drop(['id', 'ID_fam', 'age_month', 'year',\n",
    "                      'DC2_dg', 'DC2_ag', 'DC2_pr',\n",
    "                      'DC2_pt', 'DK8_dg', 'DK8_ag',\n",
    "                      'DK8_pt', 'DK9_dg','DK4_pt', 'region',\n",
    "                      'DK9_ag', 'DK9_pr', 'DK9_pt', 'HE_LDL_drct',\n",
    "                      'DK4_dg', 'DK4_ag', 'DK4_pr','HE_hepaB', 'HE_hepaC'\n",
    "                      ],\n",
    "                      axis = 1)\n",
    "\n",
    "use_data_C = data.drop(['id', 'ID_fam', 'age_month', 'year',\n",
    "                      'DC2_dg', 'DC2_ag', 'DC2_pr',\n",
    "                      'DC2_pt', 'DK8_dg', 'DK8_ag',\n",
    "                      'DK8_pr', 'DK8_pt', 'DK9_dg', 'region',\n",
    "                      'DK9_ag', 'DK4_pt', 'DK9_pt', 'HE_LDL_drct',\n",
    "                      'DK4_dg', 'DK4_ag', 'DK4_pr', 'HE_hepaB', 'HE_hepaC'\n",
    "                      ],\n",
    "                      axis = 1)"
   ]
  },
  {
   "cell_type": "code",
   "execution_count": 172,
   "metadata": {},
   "outputs": [
    {
     "data": {
      "text/plain": [
       "DK8_pr\n",
       "8.0    104685\n",
       "9.0      3266\n",
       "0.0       756\n",
       "1.0       502\n",
       "Name: count, dtype: int64"
      ]
     },
     "execution_count": 172,
     "metadata": {},
     "output_type": "execute_result"
    }
   ],
   "source": [
    "use_data_B['DK8_pr'].value_counts()"
   ]
  },
  {
   "cell_type": "code",
   "execution_count": 173,
   "metadata": {},
   "outputs": [],
   "source": [
    "# hepaB,C have 0, 1\n",
    "B = use_data_B[use_data_B['DK8_pr'].isin([0, 1])]\n",
    "C = use_data_C[use_data_C['DK9_pr'].isin([0, 1])]"
   ]
  },
  {
   "cell_type": "code",
   "execution_count": 174,
   "metadata": {},
   "outputs": [
    {
     "data": {
      "text/plain": [
       "(array([ 0,  1,  2,  3,  4,  5,  6,  7,  8,  9, 10, 11, 12, 13, 14, 15, 16,\n",
       "        17, 18, 19, 20]),\n",
       " [Text(0, 0, 'sex'),\n",
       "  Text(1, 0, 'age'),\n",
       "  Text(2, 0, 'DK8_pr'),\n",
       "  Text(3, 0, 'HE_glu'),\n",
       "  Text(4, 0, 'HE_HbA1c'),\n",
       "  Text(5, 0, 'HE_insulin'),\n",
       "  Text(6, 0, 'HE_chol'),\n",
       "  Text(7, 0, 'HE_HDL_st2'),\n",
       "  Text(8, 0, 'HE_TG'),\n",
       "  Text(9, 0, 'HE_ast'),\n",
       "  Text(10, 0, 'HE_alt'),\n",
       "  Text(11, 0, 'HE_HB'),\n",
       "  Text(12, 0, 'HE_BUN'),\n",
       "  Text(13, 0, 'HE_crea'),\n",
       "  Text(14, 0, 'HE_WBC'),\n",
       "  Text(15, 0, 'HE_RBC'),\n",
       "  Text(16, 0, 'HE_Bplt'),\n",
       "  Text(17, 0, 'HE_Uacid'),\n",
       "  Text(18, 0, 'HE_Ubil'),\n",
       "  Text(19, 0, 'HE_UCREA'),\n",
       "  Text(20, 0, 'HE_Ualb')])"
      ]
     },
     "execution_count": 174,
     "metadata": {},
     "output_type": "execute_result"
    },
    {
     "data": {
      "image/png": "[encoded data removed]",
      "text/plain": [
       "<Figure size 1000x1000 with 1 Axes>"
      ]
     },
     "metadata": {},
     "output_type": "display_data"
    }
   ],
   "source": [
    "plt.figure(figsize=(10, 10))\n",
    "sns.boxplot(data=B)\n",
    "plt.xticks(rotation = 45)"
   ]
  },
  {
   "cell_type": "code",
   "execution_count": 175,
   "metadata": {},
   "outputs": [
    {
     "data": {
      "text/plain": [
       "(array([ 0,  1,  2,  3,  4,  5,  6,  7,  8,  9, 10, 11, 12, 13, 14, 15, 16,\n",
       "        17, 18, 19, 20]),\n",
       " [Text(0, 0, 'sex'),\n",
       "  Text(1, 0, 'age'),\n",
       "  Text(2, 0, 'DK9_pr'),\n",
       "  Text(3, 0, 'HE_glu'),\n",
       "  Text(4, 0, 'HE_HbA1c'),\n",
       "  Text(5, 0, 'HE_insulin'),\n",
       "  Text(6, 0, 'HE_chol'),\n",
       "  Text(7, 0, 'HE_HDL_st2'),\n",
       "  Text(8, 0, 'HE_TG'),\n",
       "  Text(9, 0, 'HE_ast'),\n",
       "  Text(10, 0, 'HE_alt'),\n",
       "  Text(11, 0, 'HE_HB'),\n",
       "  Text(12, 0, 'HE_BUN'),\n",
       "  Text(13, 0, 'HE_crea'),\n",
       "  Text(14, 0, 'HE_WBC'),\n",
       "  Text(15, 0, 'HE_RBC'),\n",
       "  Text(16, 0, 'HE_Bplt'),\n",
       "  Text(17, 0, 'HE_Uacid'),\n",
       "  Text(18, 0, 'HE_Ubil'),\n",
       "  Text(19, 0, 'HE_UCREA'),\n",
       "  Text(20, 0, 'HE_Ualb')])"
      ]
     },
     "execution_count": 175,
     "metadata": {},
     "output_type": "execute_result"
    },
    {
     "data": {
      "image/png": "[encoded data removed]",
      "text/plain": [
       "<Figure size 1000x1000 with 1 Axes>"
      ]
     },
     "metadata": {},
     "output_type": "display_data"
    }
   ],
   "source": [
    "plt.figure(figsize=(10, 10))\n",
    "sns.boxplot(data=C)\n",
    "plt.xticks(rotation = 45)"
   ]
  },
  {
   "cell_type": "code",
   "execution_count": 176,
   "metadata": {},
   "outputs": [
    {
     "data": {
      "text/plain": [
       "1258"
      ]
     },
     "execution_count": 176,
     "metadata": {},
     "output_type": "execute_result"
    }
   ],
   "source": [
    "len(B)"
   ]
  },
  {
   "cell_type": "code",
   "execution_count": 177,
   "metadata": {},
   "outputs": [
    {
     "data": {
      "text/plain": [
       "sex            0.000000\n",
       "age            0.000000\n",
       "DK8_pr         0.000000\n",
       "HE_glu         4.292528\n",
       "HE_HbA1c      33.227345\n",
       "HE_insulin    45.151033\n",
       "HE_chol        4.372019\n",
       "HE_HDL_st2     4.372019\n",
       "HE_TG          4.372019\n",
       "HE_ast         4.292528\n",
       "HE_alt         4.292528\n",
       "HE_HB          4.372019\n",
       "HE_BUN         4.292528\n",
       "HE_crea        4.292528\n",
       "HE_WBC         4.372019\n",
       "HE_RBC         4.372019\n",
       "HE_Bplt       12.559618\n",
       "HE_Uacid      66.454690\n",
       "HE_Ubil        4.372019\n",
       "HE_UCREA      41.812401\n",
       "HE_Ualb       60.731320\n",
       "dtype: float64"
      ]
     },
     "execution_count": 177,
     "metadata": {},
     "output_type": "execute_result"
    }
   ],
   "source": [
    "B.isna().sum()/len(B)*100"
   ]
  },
  {
   "cell_type": "code",
   "execution_count": 178,
   "metadata": {},
   "outputs": [
    {
     "data": {
      "text/plain": [
       "sex            0.000000\n",
       "age            0.000000\n",
       "DK9_pr         0.000000\n",
       "HE_glu        11.111111\n",
       "HE_HbA1c      28.571429\n",
       "HE_insulin    57.142857\n",
       "HE_chol       11.111111\n",
       "HE_HDL_st2    11.111111\n",
       "HE_TG         11.111111\n",
       "HE_ast        11.111111\n",
       "HE_alt        11.111111\n",
       "HE_HB         11.111111\n",
       "HE_BUN        11.111111\n",
       "HE_crea       11.111111\n",
       "HE_WBC        11.111111\n",
       "HE_RBC        11.111111\n",
       "HE_Bplt       18.518519\n",
       "HE_Uacid      62.962963\n",
       "HE_Ubil        6.878307\n",
       "HE_UCREA      42.328042\n",
       "HE_Ualb       53.968254\n",
       "dtype: float64"
      ]
     },
     "execution_count": 178,
     "metadata": {},
     "output_type": "execute_result"
    }
   ],
   "source": [
    "C.isna().sum()/len(C)*100"
   ]
  },
  {
   "cell_type": "code",
   "execution_count": 179,
   "metadata": {},
   "outputs": [
    {
     "data": {
      "text/plain": [
       "sex            0.000000\n",
       "age            0.000000\n",
       "DK8_pr         0.000000\n",
       "HE_glu         1.589825\n",
       "HE_HbA1c      12.718601\n",
       "HE_insulin    18.044515\n",
       "HE_chol        1.589825\n",
       "HE_HDL_st2     1.589825\n",
       "HE_TG          1.589825\n",
       "HE_ast         1.589825\n",
       "HE_alt         1.589825\n",
       "HE_HB          1.589825\n",
       "HE_BUN         1.589825\n",
       "HE_crea        1.589825\n",
       "HE_WBC         1.589825\n",
       "HE_RBC         1.589825\n",
       "HE_Bplt        5.802862\n",
       "HE_Uacid      25.119237\n",
       "HE_Ubil        1.828299\n",
       "HE_UCREA      17.806041\n",
       "HE_Ualb       25.198728\n",
       "dtype: float64"
      ]
     },
     "execution_count": 179,
     "metadata": {},
     "output_type": "execute_result"
    }
   ],
   "source": [
    "B[B['DK8_pr'] == 1].isna().sum()/len(B)*100"
   ]
  },
  {
   "cell_type": "code",
   "execution_count": 180,
   "metadata": {},
   "outputs": [
    {
     "data": {
      "text/plain": [
       "sex            0.000000\n",
       "age            0.000000\n",
       "DK8_pr         0.000000\n",
       "HE_glu         2.702703\n",
       "HE_HbA1c      20.508744\n",
       "HE_insulin    27.106518\n",
       "HE_chol        2.782194\n",
       "HE_HDL_st2     2.782194\n",
       "HE_TG          2.782194\n",
       "HE_ast         2.702703\n",
       "HE_alt         2.702703\n",
       "HE_HB          2.782194\n",
       "HE_BUN         2.702703\n",
       "HE_crea        2.702703\n",
       "HE_WBC         2.782194\n",
       "HE_RBC         2.782194\n",
       "HE_Bplt        6.756757\n",
       "HE_Uacid      41.335453\n",
       "HE_Ubil        2.543720\n",
       "HE_UCREA      24.006359\n",
       "HE_Ualb       35.532591\n",
       "dtype: float64"
      ]
     },
     "execution_count": 180,
     "metadata": {},
     "output_type": "execute_result"
    }
   ],
   "source": [
    "B[B['DK8_pr'] == 0].isna().sum()/len(B)*100"
   ]
  },
  {
   "cell_type": "code",
   "execution_count": 181,
   "metadata": {},
   "outputs": [
    {
     "data": {
      "text/plain": [
       "sex            0.000000\n",
       "age            0.000000\n",
       "DK9_pr         0.000000\n",
       "HE_glu         6.878307\n",
       "HE_HbA1c      15.873016\n",
       "HE_insulin    33.333333\n",
       "HE_chol        6.878307\n",
       "HE_HDL_st2     6.878307\n",
       "HE_TG          6.878307\n",
       "HE_ast         6.878307\n",
       "HE_alt         6.878307\n",
       "HE_HB          6.878307\n",
       "HE_BUN         6.878307\n",
       "HE_crea        6.878307\n",
       "HE_WBC         6.878307\n",
       "HE_RBC         6.878307\n",
       "HE_Bplt        8.994709\n",
       "HE_Uacid      34.920635\n",
       "HE_Ubil        4.761905\n",
       "HE_UCREA      27.513228\n",
       "HE_Ualb       32.275132\n",
       "dtype: float64"
      ]
     },
     "execution_count": 181,
     "metadata": {},
     "output_type": "execute_result"
    }
   ],
   "source": [
    "C[C['DK9_pr'] == 0].isna().sum()/len(C)*100"
   ]
  },
  {
   "cell_type": "code",
   "execution_count": 182,
   "metadata": {},
   "outputs": [
    {
     "data": {
      "text/plain": [
       "sex            0.000000\n",
       "age            0.000000\n",
       "DK9_pr         0.000000\n",
       "HE_glu         4.232804\n",
       "HE_HbA1c      12.698413\n",
       "HE_insulin    23.809524\n",
       "HE_chol        4.232804\n",
       "HE_HDL_st2     4.232804\n",
       "HE_TG          4.232804\n",
       "HE_ast         4.232804\n",
       "HE_alt         4.232804\n",
       "HE_HB          4.232804\n",
       "HE_BUN         4.232804\n",
       "HE_crea        4.232804\n",
       "HE_WBC         4.232804\n",
       "HE_RBC         4.232804\n",
       "HE_Bplt        9.523810\n",
       "HE_Uacid      28.042328\n",
       "HE_Ubil        2.116402\n",
       "HE_UCREA      14.814815\n",
       "HE_Ualb       21.693122\n",
       "dtype: float64"
      ]
     },
     "execution_count": 182,
     "metadata": {},
     "output_type": "execute_result"
    }
   ],
   "source": [
    "C[C['DK9_pr'] == 1].isna().sum()/len(C)*100"
   ]
  },
  {
   "cell_type": "code",
   "execution_count": 183,
   "metadata": {},
   "outputs": [
    {
     "data": {
      "text/plain": [
       "DK8_pr\n",
       "0.0    756\n",
       "1.0    502\n",
       "Name: count, dtype: int64"
      ]
     },
     "execution_count": 183,
     "metadata": {},
     "output_type": "execute_result"
    }
   ],
   "source": [
    "B['DK8_pr'].value_counts()"
   ]
  },
  {
   "cell_type": "code",
   "execution_count": 184,
   "metadata": {},
   "outputs": [
    {
     "name": "stdout",
     "output_type": "stream",
     "text": [
      "sex\n",
      "age\n",
      "DK8_pr\n"
     ]
    }
   ],
   "source": [
    "for i in B.columns:\n",
    "    if i in ['sex', 'age', 'DK8_pr']:\n",
    "        continue\n",
    "\n",
    "    B[i][B[i].isna()] = B.median()[i]"
   ]
  },
  {
   "cell_type": "code",
   "execution_count": 186,
   "metadata": {},
   "outputs": [],
   "source": [
    "for i in C.columns:\n",
    "    if i in ['sex', 'age', 'DK9_pr']:\n",
    "        continue\n",
    "\n",
    "    C[i][C[i].isna()] = C.median()[i]"
   ]
  },
  {
   "cell_type": "markdown",
   "metadata": {},
   "source": [
    "## 4. train, test split"
   ]
  },
  {
   "cell_type": "code",
   "execution_count": 187,
   "metadata": {},
   "outputs": [],
   "source": [
    "# split 8:2\n",
    "xb_train, xb_test, yb_train, yb_test = train_test_split(B[B.columns.difference(['DK8_pr'])],\n",
    "                 B['DK8_pr'],\n",
    "                 test_size=0.2,\n",
    "                 stratify = B['DK8_pr'],\n",
    "                 shuffle = True,\n",
    "                 random_state = 42)\n",
    "\n",
    "xc_train, xc_test, yc_train, yc_test = train_test_split(C[C.columns.difference(['DK9_pr'])],\n",
    "                 C['DK9_pr'],\n",
    "                 test_size=0.2,\n",
    "                 stratify = C['DK9_pr'],\n",
    "                 shuffle = True,\n",
    "                 random_state = 42)"
   ]
  },
  {
   "cell_type": "code",
   "execution_count": 188,
   "metadata": {},
   "outputs": [
    {
     "data": {
      "text/plain": [
       "DK8_pr\n",
       "0.0    0.600954\n",
       "1.0    0.399046\n",
       "Name: count, dtype: float64"
      ]
     },
     "execution_count": 188,
     "metadata": {},
     "output_type": "execute_result"
    }
   ],
   "source": [
    "B['DK8_pr'].value_counts()/B['DK8_pr'].count()"
   ]
  },
  {
   "cell_type": "code",
   "execution_count": 189,
   "metadata": {},
   "outputs": [
    {
     "data": {
      "text/plain": [
       "DK8_pr\n",
       "0.0    0.601392\n",
       "1.0    0.398608\n",
       "Name: count, dtype: float64"
      ]
     },
     "execution_count": 189,
     "metadata": {},
     "output_type": "execute_result"
    }
   ],
   "source": [
    "yb_train.value_counts()/yb_train.count()"
   ]
  },
  {
   "cell_type": "code",
   "execution_count": 190,
   "metadata": {},
   "outputs": [
    {
     "data": {
      "text/plain": [
       "DK8_pr\n",
       "0.0    0.599206\n",
       "1.0    0.400794\n",
       "Name: count, dtype: float64"
      ]
     },
     "execution_count": 190,
     "metadata": {},
     "output_type": "execute_result"
    }
   ],
   "source": [
    "yb_test.value_counts()/yb_test.count()"
   ]
  },
  {
   "cell_type": "markdown",
   "metadata": {},
   "source": [
    "## 5. Modeling"
   ]
  },
  {
   "cell_type": "code",
   "execution_count": 197,
   "metadata": {},
   "outputs": [],
   "source": [
    "# model\n",
    "automl_b = AutoML(mode=\"Explain\",\n",
    "                algorithms = ['Random Forest',\n",
    "                            'Extra Trees',\n",
    "                            'LightGBM',\n",
    "                            'Xgboost',\n",
    "                            'CatBoost'],\n",
    "                n_jobs = -1,\n",
    "                total_time_limit=43200,\n",
    "                features_selection = False,\n",
    "                random_state = 42,\n",
    "                eval_metric=\"auc\",\n",
    "                ml_task = \"binary_classification\",\n",
    "                results_path = '../Model/AutoML_baseline_B/',\n",
    "                explain_level=2)"
   ]
  },
  {
   "cell_type": "code",
   "execution_count": 198,
   "metadata": {},
   "outputs": [],
   "source": [
    "# model\n",
    "automl_c = AutoML(mode=\"Explain\",\n",
    "                algorithms = ['Random Forest',\n",
    "                            'Extra Trees',\n",
    "                            'LightGBM',\n",
    "                            'Xgboost',\n",
    "                            'CatBoost'],\n",
    "                n_jobs = -1,\n",
    "                total_time_limit=43200,\n",
    "                features_selection = False,\n",
    "                random_state = 42,\n",
    "                eval_metric=\"auc\",\n",
    "                ml_task = \"binary_classification\",\n",
    "                results_path = '../Model/AutoML_baseline_C/',\n",
    "                explain_level=2)"
   ]
  },
  {
   "cell_type": "code",
   "execution_count": 199,
   "metadata": {},
   "outputs": [
    {
     "name": "stdout",
     "output_type": "stream",
     "text": [
      "AutoML directory: ../Model/AutoML_baseline_B/\n",
      "The task is binary_classification with evaluation metric auc\n",
      "AutoML will use algorithms: ['Random Forest', 'Extra Trees', 'LightGBM', 'Xgboost', 'CatBoost']\n",
      "AutoML will ensemble available models\n",
      "AutoML steps: ['simple_algorithms', 'default_algorithms', 'ensemble']\n",
      "Skip simple_algorithms because no parameters were generated.\n",
      "* Step default_algorithms will try to check up to 5 models\n",
      "1_Default_LightGBM auc 0.614342 trained in 25.05 seconds\n",
      "2_Default_Xgboost auc 0.62273 trained in 10.58 seconds\n",
      "3_Default_CatBoost auc 0.677039 trained in 5.24 seconds\n",
      "4_Default_RandomForest auc 0.653586 trained in 11.07 seconds\n",
      "5_Default_ExtraTrees auc 0.67398 trained in 11.5 seconds\n",
      "* Step ensemble will try to check up to 1 model\n",
      "Ensemble auc 0.68352 trained in 3.99 seconds\n",
      "AutoML fit time: 82.38 seconds\n",
      "AutoML best model: Ensemble\n"
     ]
    },
    {
     "data": {
      "text/html": [
       "<style>#sk-container-id-4 {color: black;}#sk-container-id-4 pre{padding: 0;}#sk-container-id-4 div.sk-toggleable {background-color: white;}#sk-container-id-4 label.sk-toggleable__label {cursor: pointer;display: block;width: 100%;margin-bottom: 0;padding: 0.3em;box-sizing: border-box;text-align: center;}#sk-container-id-4 label.sk-toggleable__label-arrow:before {content: \"▸\";float: left;margin-right: 0.25em;color: #696969;}#sk-container-id-4 label.sk-toggleable__label-arrow:hover:before {color: black;}#sk-container-id-4 div.sk-estimator:hover label.sk-toggleable__label-arrow:before {color: black;}#sk-container-id-4 div.sk-toggleable__content {max-height: 0;max-width: 0;overflow: hidden;text-align: left;background-color: #f0f8ff;}#sk-container-id-4 div.sk-toggleable__content pre {margin: 0.2em;color: black;border-radius: 0.25em;background-color: #f0f8ff;}#sk-container-id-4 input.sk-toggleable__control:checked~div.sk-toggleable__content {max-height: 200px;max-width: 100%;overflow: auto;}#sk-container-id-4 input.sk-toggleable__control:checked~label.sk-toggleable__label-arrow:before {content: \"▾\";}#sk-container-id-4 div.sk-estimator input.sk-toggleable__control:checked~label.sk-toggleable__label {background-color: #d4ebff;}#sk-container-id-4 div.sk-label input.sk-toggleable__control:checked~label.sk-toggleable__label {background-color: #d4ebff;}#sk-container-id-4 input.sk-hidden--visually {border: 0;clip: rect(1px 1px 1px 1px);clip: rect(1px, 1px, 1px, 1px);height: 1px;margin: -1px;overflow: hidden;padding: 0;position: absolute;width: 1px;}#sk-container-id-4 div.sk-estimator {font-family: monospace;background-color: #f0f8ff;border: 1px dotted black;border-radius: 0.25em;box-sizing: border-box;margin-bottom: 0.5em;}#sk-container-id-4 div.sk-estimator:hover {background-color: #d4ebff;}#sk-container-id-4 div.sk-parallel-item::after {content: \"\";width: 100%;border-bottom: 1px solid gray;flex-grow: 1;}#sk-container-id-4 div.sk-label:hover label.sk-toggleable__label {background-color: #d4ebff;}#sk-container-id-4 div.sk-serial::before {content: \"\";position: absolute;border-left: 1px solid gray;box-sizing: border-box;top: 0;bottom: 0;left: 50%;z-index: 0;}#sk-container-id-4 div.sk-serial {display: flex;flex-direction: column;align-items: center;background-color: white;padding-right: 0.2em;padding-left: 0.2em;position: relative;}#sk-container-id-4 div.sk-item {position: relative;z-index: 1;}#sk-container-id-4 div.sk-parallel {display: flex;align-items: stretch;justify-content: center;background-color: white;position: relative;}#sk-container-id-4 div.sk-item::before, #sk-container-id-4 div.sk-parallel-item::before {content: \"\";position: absolute;border-left: 1px solid gray;box-sizing: border-box;top: 0;bottom: 0;left: 50%;z-index: -1;}#sk-container-id-4 div.sk-parallel-item {display: flex;flex-direction: column;z-index: 1;position: relative;background-color: white;}#sk-container-id-4 div.sk-parallel-item:first-child::after {align-self: flex-end;width: 50%;}#sk-container-id-4 div.sk-parallel-item:last-child::after {align-self: flex-start;width: 50%;}#sk-container-id-4 div.sk-parallel-item:only-child::after {width: 0;}#sk-container-id-4 div.sk-dashed-wrapped {border: 1px dashed gray;margin: 0 0.4em 0.5em 0.4em;box-sizing: border-box;padding-bottom: 0.4em;background-color: white;}#sk-container-id-4 div.sk-label label {font-family: monospace;font-weight: bold;display: inline-block;line-height: 1.2em;}#sk-container-id-4 div.sk-label-container {text-align: center;}#sk-container-id-4 div.sk-container {/* jupyter's `normalize.less` sets `[hidden] { display: none; }` but bootstrap.min.css set `[hidden] { display: none !important; }` so we also need the `!important` here to be able to override the default hidden behavior on the sphinx rendered scikit-learn.org. See: https://github.com/scikit-learn/scikit-learn/issues/21755 */display: inline-block !important;position: relative;}#sk-container-id-4 div.sk-text-repr-fallback {display: none;}</style><div id=\"sk-container-id-4\" class=\"sk-top-container\"><div class=\"sk-text-repr-fallback\"><pre>AutoML(algorithms=[&#x27;Random Forest&#x27;, &#x27;Extra Trees&#x27;, &#x27;LightGBM&#x27;, &#x27;Xgboost&#x27;,\n",
       "                   &#x27;CatBoost&#x27;],\n",
       "       eval_metric=&#x27;auc&#x27;, explain_level=2, features_selection=False,\n",
       "       ml_task=&#x27;binary_classification&#x27;, random_state=42,\n",
       "       results_path=&#x27;../Model/AutoML_baseline_B/&#x27;, total_time_limit=43200)</pre><b>In a Jupyter environment, please rerun this cell to show the HTML representation or trust the notebook. <br />On GitHub, the HTML representation is unable to render, please try loading this page with nbviewer.org.</b></div><div class=\"sk-container\" hidden><div class=\"sk-item\"><div class=\"sk-estimator sk-toggleable\"><input class=\"sk-toggleable__control sk-hidden--visually\" id=\"sk-estimator-id-4\" type=\"checkbox\" checked><label for=\"sk-estimator-id-4\" class=\"sk-toggleable__label sk-toggleable__label-arrow\">AutoML</label><div class=\"sk-toggleable__content\"><pre>AutoML(algorithms=[&#x27;Random Forest&#x27;, &#x27;Extra Trees&#x27;, &#x27;LightGBM&#x27;, &#x27;Xgboost&#x27;,\n",
       "                   &#x27;CatBoost&#x27;],\n",
       "       eval_metric=&#x27;auc&#x27;, explain_level=2, features_selection=False,\n",
       "       ml_task=&#x27;binary_classification&#x27;, random_state=42,\n",
       "       results_path=&#x27;../Model/AutoML_baseline_B/&#x27;, total_time_limit=43200)</pre></div></div></div></div></div>"
      ],
      "text/plain": [
       "AutoML(algorithms=['Random Forest', 'Extra Trees', 'LightGBM', 'Xgboost',\n",
       "                   'CatBoost'],\n",
       "       eval_metric='auc', explain_level=2, features_selection=False,\n",
       "       ml_task='binary_classification', random_state=42,\n",
       "       results_path='../Model/AutoML_baseline_B/', total_time_limit=43200)"
      ]
     },
     "execution_count": 199,
     "metadata": {},
     "output_type": "execute_result"
    }
   ],
   "source": [
    "# fit\n",
    "automl_b.fit(xb_train, yb_train)"
   ]
  },
  {
   "cell_type": "code",
   "execution_count": 200,
   "metadata": {},
   "outputs": [
    {
     "name": "stdout",
     "output_type": "stream",
     "text": [
      "AutoML directory: ../Model/AutoML_baseline_C/\n",
      "The task is binary_classification with evaluation metric auc\n",
      "AutoML will use algorithms: ['Random Forest', 'Extra Trees', 'LightGBM', 'Xgboost', 'CatBoost']\n",
      "AutoML will ensemble available models\n",
      "AutoML steps: ['simple_algorithms', 'default_algorithms', 'ensemble']\n",
      "Skip simple_algorithms because no parameters were generated.\n",
      "* Step default_algorithms will try to check up to 5 models\n",
      "1_Default_LightGBM auc 0.75 trained in 7.69 seconds\n",
      "2_Default_Xgboost auc 0.741071 trained in 7.37 seconds\n",
      "3_Default_CatBoost auc 0.857143 trained in 3.16 seconds\n",
      "4_Default_RandomForest auc 0.791667 trained in 8.04 seconds\n",
      "5_Default_ExtraTrees auc 0.754464 trained in 8.05 seconds\n",
      "* Step ensemble will try to check up to 1 model\n",
      "Ensemble auc 0.857143 trained in 1.8 seconds\n",
      "AutoML fit time: 51.39 seconds\n",
      "AutoML best model: 3_Default_CatBoost\n"
     ]
    },
    {
     "data": {
      "text/html": [
       "<style>#sk-container-id-5 {color: black;}#sk-container-id-5 pre{padding: 0;}#sk-container-id-5 div.sk-toggleable {background-color: white;}#sk-container-id-5 label.sk-toggleable__label {cursor: pointer;display: block;width: 100%;margin-bottom: 0;padding: 0.3em;box-sizing: border-box;text-align: center;}#sk-container-id-5 label.sk-toggleable__label-arrow:before {content: \"▸\";float: left;margin-right: 0.25em;color: #696969;}#sk-container-id-5 label.sk-toggleable__label-arrow:hover:before {color: black;}#sk-container-id-5 div.sk-estimator:hover label.sk-toggleable__label-arrow:before {color: black;}#sk-container-id-5 div.sk-toggleable__content {max-height: 0;max-width: 0;overflow: hidden;text-align: left;background-color: #f0f8ff;}#sk-container-id-5 div.sk-toggleable__content pre {margin: 0.2em;color: black;border-radius: 0.25em;background-color: #f0f8ff;}#sk-container-id-5 input.sk-toggleable__control:checked~div.sk-toggleable__content {max-height: 200px;max-width: 100%;overflow: auto;}#sk-container-id-5 input.sk-toggleable__control:checked~label.sk-toggleable__label-arrow:before {content: \"▾\";}#sk-container-id-5 div.sk-estimator input.sk-toggleable__control:checked~label.sk-toggleable__label {background-color: #d4ebff;}#sk-container-id-5 div.sk-label input.sk-toggleable__control:checked~label.sk-toggleable__label {background-color: #d4ebff;}#sk-container-id-5 input.sk-hidden--visually {border: 0;clip: rect(1px 1px 1px 1px);clip: rect(1px, 1px, 1px, 1px);height: 1px;margin: -1px;overflow: hidden;padding: 0;position: absolute;width: 1px;}#sk-container-id-5 div.sk-estimator {font-family: monospace;background-color: #f0f8ff;border: 1px dotted black;border-radius: 0.25em;box-sizing: border-box;margin-bottom: 0.5em;}#sk-container-id-5 div.sk-estimator:hover {background-color: #d4ebff;}#sk-container-id-5 div.sk-parallel-item::after {content: \"\";width: 100%;border-bottom: 1px solid gray;flex-grow: 1;}#sk-container-id-5 div.sk-label:hover label.sk-toggleable__label {background-color: #d4ebff;}#sk-container-id-5 div.sk-serial::before {content: \"\";position: absolute;border-left: 1px solid gray;box-sizing: border-box;top: 0;bottom: 0;left: 50%;z-index: 0;}#sk-container-id-5 div.sk-serial {display: flex;flex-direction: column;align-items: center;background-color: white;padding-right: 0.2em;padding-left: 0.2em;position: relative;}#sk-container-id-5 div.sk-item {position: relative;z-index: 1;}#sk-container-id-5 div.sk-parallel {display: flex;align-items: stretch;justify-content: center;background-color: white;position: relative;}#sk-container-id-5 div.sk-item::before, #sk-container-id-5 div.sk-parallel-item::before {content: \"\";position: absolute;border-left: 1px solid gray;box-sizing: border-box;top: 0;bottom: 0;left: 50%;z-index: -1;}#sk-container-id-5 div.sk-parallel-item {display: flex;flex-direction: column;z-index: 1;position: relative;background-color: white;}#sk-container-id-5 div.sk-parallel-item:first-child::after {align-self: flex-end;width: 50%;}#sk-container-id-5 div.sk-parallel-item:last-child::after {align-self: flex-start;width: 50%;}#sk-container-id-5 div.sk-parallel-item:only-child::after {width: 0;}#sk-container-id-5 div.sk-dashed-wrapped {border: 1px dashed gray;margin: 0 0.4em 0.5em 0.4em;box-sizing: border-box;padding-bottom: 0.4em;background-color: white;}#sk-container-id-5 div.sk-label label {font-family: monospace;font-weight: bold;display: inline-block;line-height: 1.2em;}#sk-container-id-5 div.sk-label-container {text-align: center;}#sk-container-id-5 div.sk-container {/* jupyter's `normalize.less` sets `[hidden] { display: none; }` but bootstrap.min.css set `[hidden] { display: none !important; }` so we also need the `!important` here to be able to override the default hidden behavior on the sphinx rendered scikit-learn.org. See: https://github.com/scikit-learn/scikit-learn/issues/21755 */display: inline-block !important;position: relative;}#sk-container-id-5 div.sk-text-repr-fallback {display: none;}</style><div id=\"sk-container-id-5\" class=\"sk-top-container\"><div class=\"sk-text-repr-fallback\"><pre>AutoML(algorithms=[&#x27;Random Forest&#x27;, &#x27;Extra Trees&#x27;, &#x27;LightGBM&#x27;, &#x27;Xgboost&#x27;,\n",
       "                   &#x27;CatBoost&#x27;],\n",
       "       eval_metric=&#x27;auc&#x27;, explain_level=2, features_selection=False,\n",
       "       ml_task=&#x27;binary_classification&#x27;, random_state=42,\n",
       "       results_path=&#x27;../Model/AutoML_baseline_C/&#x27;, total_time_limit=43200)</pre><b>In a Jupyter environment, please rerun this cell to show the HTML representation or trust the notebook. <br />On GitHub, the HTML representation is unable to render, please try loading this page with nbviewer.org.</b></div><div class=\"sk-container\" hidden><div class=\"sk-item\"><div class=\"sk-estimator sk-toggleable\"><input class=\"sk-toggleable__control sk-hidden--visually\" id=\"sk-estimator-id-5\" type=\"checkbox\" checked><label for=\"sk-estimator-id-5\" class=\"sk-toggleable__label sk-toggleable__label-arrow\">AutoML</label><div class=\"sk-toggleable__content\"><pre>AutoML(algorithms=[&#x27;Random Forest&#x27;, &#x27;Extra Trees&#x27;, &#x27;LightGBM&#x27;, &#x27;Xgboost&#x27;,\n",
       "                   &#x27;CatBoost&#x27;],\n",
       "       eval_metric=&#x27;auc&#x27;, explain_level=2, features_selection=False,\n",
       "       ml_task=&#x27;binary_classification&#x27;, random_state=42,\n",
       "       results_path=&#x27;../Model/AutoML_baseline_C/&#x27;, total_time_limit=43200)</pre></div></div></div></div></div>"
      ],
      "text/plain": [
       "AutoML(algorithms=['Random Forest', 'Extra Trees', 'LightGBM', 'Xgboost',\n",
       "                   'CatBoost'],\n",
       "       eval_metric='auc', explain_level=2, features_selection=False,\n",
       "       ml_task='binary_classification', random_state=42,\n",
       "       results_path='../Model/AutoML_baseline_C/', total_time_limit=43200)"
      ]
     },
     "execution_count": 200,
     "metadata": {},
     "output_type": "execute_result"
    }
   ],
   "source": [
    "# fit\n",
    "automl_c.fit(xc_train, yc_train)"
   ]
  },
  {
   "cell_type": "code",
   "execution_count": null,
   "metadata": {},
   "outputs": [],
   "source": []
  }
 ],
 "metadata": {
  "kernelspec": {
   "display_name": "ss",
   "language": "python",
   "name": "python3"
  },
  "language_info": {
   "codemirror_mode": {
    "name": "ipython",
    "version": 3
   },
   "file_extension": ".py",
   "mimetype": "text/x-python",
   "name": "python",
   "nbconvert_exporter": "python",
   "pygments_lexer": "ipython3",
   "version": "3.8.17"
  }
 },
 "nbformat": 4,
 "nbformat_minor": 2
}
